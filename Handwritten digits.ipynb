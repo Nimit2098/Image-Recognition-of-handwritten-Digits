{
 "cells": [
  {
   "cell_type": "markdown",
   "metadata": {},
   "source": [
    "# HW7 NaiveBayes\n",
    "Author : Nimit Sanjay Shah"
   ]
  },
  {
   "cell_type": "code",
   "execution_count": 4,
   "metadata": {},
   "outputs": [],
   "source": [
    "#importing necessary libraries\n",
    "import numpy as np\n",
    "import pandas as pd\n",
    "import math as m\n",
    "from sklearn import metrics\n",
    "from sklearn.metrics import confusion_matrix\n",
    "import seaborn as sns\n",
    "import matplotlib.pyplot as plt"
   ]
  },
  {
   "cell_type": "code",
   "execution_count": 5,
   "metadata": {},
   "outputs": [],
   "source": [
    "#reading the data in with missing header\n",
    "train = pd.read_csv('mnist_train.csv', header=None)\n",
    "test = pd.read_csv('mnist_test.csv', header=None)"
   ]
  },
  {
   "cell_type": "code",
   "execution_count": 6,
   "metadata": {},
   "outputs": [
    {
     "name": "stdout",
     "output_type": "stream",
     "text": [
      "(60000, 785)\n",
      "(10000, 785)\n"
     ]
    }
   ],
   "source": [
    "print(train.shape)\n",
    "print(test.shape)"
   ]
  },
  {
   "cell_type": "code",
   "execution_count": 7,
   "metadata": {},
   "outputs": [
    {
     "data": {
      "text/html": [
       "<div>\n",
       "<style scoped>\n",
       "    .dataframe tbody tr th:only-of-type {\n",
       "        vertical-align: middle;\n",
       "    }\n",
       "\n",
       "    .dataframe tbody tr th {\n",
       "        vertical-align: top;\n",
       "    }\n",
       "\n",
       "    .dataframe thead th {\n",
       "        text-align: right;\n",
       "    }\n",
       "</style>\n",
       "<table border=\"1\" class=\"dataframe\">\n",
       "  <thead>\n",
       "    <tr style=\"text-align: right;\">\n",
       "      <th></th>\n",
       "      <th>0</th>\n",
       "      <th>1</th>\n",
       "      <th>2</th>\n",
       "      <th>3</th>\n",
       "      <th>4</th>\n",
       "      <th>5</th>\n",
       "      <th>6</th>\n",
       "      <th>7</th>\n",
       "      <th>8</th>\n",
       "      <th>9</th>\n",
       "      <th>...</th>\n",
       "      <th>775</th>\n",
       "      <th>776</th>\n",
       "      <th>777</th>\n",
       "      <th>778</th>\n",
       "      <th>779</th>\n",
       "      <th>780</th>\n",
       "      <th>781</th>\n",
       "      <th>782</th>\n",
       "      <th>783</th>\n",
       "      <th>784</th>\n",
       "    </tr>\n",
       "  </thead>\n",
       "  <tbody>\n",
       "    <tr>\n",
       "      <th>0</th>\n",
       "      <td>5</td>\n",
       "      <td>0</td>\n",
       "      <td>0</td>\n",
       "      <td>0</td>\n",
       "      <td>0</td>\n",
       "      <td>0</td>\n",
       "      <td>0</td>\n",
       "      <td>0</td>\n",
       "      <td>0</td>\n",
       "      <td>0</td>\n",
       "      <td>...</td>\n",
       "      <td>0</td>\n",
       "      <td>0</td>\n",
       "      <td>0</td>\n",
       "      <td>0</td>\n",
       "      <td>0</td>\n",
       "      <td>0</td>\n",
       "      <td>0</td>\n",
       "      <td>0</td>\n",
       "      <td>0</td>\n",
       "      <td>0</td>\n",
       "    </tr>\n",
       "    <tr>\n",
       "      <th>1</th>\n",
       "      <td>0</td>\n",
       "      <td>0</td>\n",
       "      <td>0</td>\n",
       "      <td>0</td>\n",
       "      <td>0</td>\n",
       "      <td>0</td>\n",
       "      <td>0</td>\n",
       "      <td>0</td>\n",
       "      <td>0</td>\n",
       "      <td>0</td>\n",
       "      <td>...</td>\n",
       "      <td>0</td>\n",
       "      <td>0</td>\n",
       "      <td>0</td>\n",
       "      <td>0</td>\n",
       "      <td>0</td>\n",
       "      <td>0</td>\n",
       "      <td>0</td>\n",
       "      <td>0</td>\n",
       "      <td>0</td>\n",
       "      <td>0</td>\n",
       "    </tr>\n",
       "    <tr>\n",
       "      <th>2</th>\n",
       "      <td>4</td>\n",
       "      <td>0</td>\n",
       "      <td>0</td>\n",
       "      <td>0</td>\n",
       "      <td>0</td>\n",
       "      <td>0</td>\n",
       "      <td>0</td>\n",
       "      <td>0</td>\n",
       "      <td>0</td>\n",
       "      <td>0</td>\n",
       "      <td>...</td>\n",
       "      <td>0</td>\n",
       "      <td>0</td>\n",
       "      <td>0</td>\n",
       "      <td>0</td>\n",
       "      <td>0</td>\n",
       "      <td>0</td>\n",
       "      <td>0</td>\n",
       "      <td>0</td>\n",
       "      <td>0</td>\n",
       "      <td>0</td>\n",
       "    </tr>\n",
       "    <tr>\n",
       "      <th>3</th>\n",
       "      <td>1</td>\n",
       "      <td>0</td>\n",
       "      <td>0</td>\n",
       "      <td>0</td>\n",
       "      <td>0</td>\n",
       "      <td>0</td>\n",
       "      <td>0</td>\n",
       "      <td>0</td>\n",
       "      <td>0</td>\n",
       "      <td>0</td>\n",
       "      <td>...</td>\n",
       "      <td>0</td>\n",
       "      <td>0</td>\n",
       "      <td>0</td>\n",
       "      <td>0</td>\n",
       "      <td>0</td>\n",
       "      <td>0</td>\n",
       "      <td>0</td>\n",
       "      <td>0</td>\n",
       "      <td>0</td>\n",
       "      <td>0</td>\n",
       "    </tr>\n",
       "    <tr>\n",
       "      <th>4</th>\n",
       "      <td>9</td>\n",
       "      <td>0</td>\n",
       "      <td>0</td>\n",
       "      <td>0</td>\n",
       "      <td>0</td>\n",
       "      <td>0</td>\n",
       "      <td>0</td>\n",
       "      <td>0</td>\n",
       "      <td>0</td>\n",
       "      <td>0</td>\n",
       "      <td>...</td>\n",
       "      <td>0</td>\n",
       "      <td>0</td>\n",
       "      <td>0</td>\n",
       "      <td>0</td>\n",
       "      <td>0</td>\n",
       "      <td>0</td>\n",
       "      <td>0</td>\n",
       "      <td>0</td>\n",
       "      <td>0</td>\n",
       "      <td>0</td>\n",
       "    </tr>\n",
       "  </tbody>\n",
       "</table>\n",
       "<p>5 rows × 785 columns</p>\n",
       "</div>"
      ],
      "text/plain": [
       "   0    1    2    3    4    5    6    7    8    9    ...  775  776  777  778  \\\n",
       "0    5    0    0    0    0    0    0    0    0    0  ...    0    0    0    0   \n",
       "1    0    0    0    0    0    0    0    0    0    0  ...    0    0    0    0   \n",
       "2    4    0    0    0    0    0    0    0    0    0  ...    0    0    0    0   \n",
       "3    1    0    0    0    0    0    0    0    0    0  ...    0    0    0    0   \n",
       "4    9    0    0    0    0    0    0    0    0    0  ...    0    0    0    0   \n",
       "\n",
       "   779  780  781  782  783  784  \n",
       "0    0    0    0    0    0    0  \n",
       "1    0    0    0    0    0    0  \n",
       "2    0    0    0    0    0    0  \n",
       "3    0    0    0    0    0    0  \n",
       "4    0    0    0    0    0    0  \n",
       "\n",
       "[5 rows x 785 columns]"
      ]
     },
     "execution_count": 7,
     "metadata": {},
     "output_type": "execute_result"
    }
   ],
   "source": [
    "#printing a sample of data\n",
    "train.head()"
   ]
  },
  {
   "cell_type": "code",
   "execution_count": 8,
   "metadata": {},
   "outputs": [],
   "source": [
    "#extracting the label into list\n",
    "label_train = train.iloc[:,0]\n",
    "label_test = test.iloc[:,0]"
   ]
  },
  {
   "cell_type": "code",
   "execution_count": 9,
   "metadata": {},
   "outputs": [],
   "source": [
    "#extracting the pixels\n",
    "pixel_train = train.iloc[:,1:]\n",
    "pixel_test = test.iloc[:,1:]"
   ]
  },
  {
   "cell_type": "markdown",
   "metadata": {},
   "source": [
    "## 1) Priors P(class):"
   ]
  },
  {
   "cell_type": "code",
   "execution_count": 10,
   "metadata": {},
   "outputs": [
    {
     "name": "stdout",
     "output_type": "stream",
     "text": [
      "Digit\tPrior Probability\n",
      "0    0.099\n",
      "1    0.112\n",
      "2    0.099\n",
      "3    0.102\n",
      "4    0.097\n",
      "5    0.090\n",
      "6    0.099\n",
      "7    0.104\n",
      "8    0.098\n",
      "9    0.099\n",
      "Name: 0, dtype: float64\n"
     ]
    }
   ],
   "source": [
    "#extracting unique digits from the labels\n",
    "uniq_label = list(set(label_train))\n",
    "\n",
    "#itterating through the unique digits\n",
    "prior_prob = round((label_train.value_counts()) / (len(label_train)),3)\n",
    "\n",
    "#Printing Prior Prob\n",
    "print(\"Digit\"\"\\t\"\"Prior Probability\")\n",
    "prior_prob =  prior_prob.sort_index(ascending=True)\n",
    "print(prior_prob)"
   ]
  },
  {
   "cell_type": "markdown",
   "metadata": {},
   "source": [
    "## 2) Estimate the likelihoods: "
   ]
  },
  {
   "cell_type": "code",
   "execution_count": 11,
   "metadata": {},
   "outputs": [],
   "source": [
    "#intializing list for index\n",
    "index = []\n",
    "#loop for appending index of similar digits in list\n",
    "for i in uniq_label:\n",
    "    index.append(train[train[0] == i].index)"
   ]
  },
  {
   "cell_type": "code",
   "execution_count": 12,
   "metadata": {},
   "outputs": [
    {
     "data": {
      "text/html": [
       "<div>\n",
       "<style scoped>\n",
       "    .dataframe tbody tr th:only-of-type {\n",
       "        vertical-align: middle;\n",
       "    }\n",
       "\n",
       "    .dataframe tbody tr th {\n",
       "        vertical-align: top;\n",
       "    }\n",
       "\n",
       "    .dataframe thead th {\n",
       "        text-align: right;\n",
       "    }\n",
       "</style>\n",
       "<table border=\"1\" class=\"dataframe\">\n",
       "  <thead>\n",
       "    <tr style=\"text-align: right;\">\n",
       "      <th></th>\n",
       "      <th>0</th>\n",
       "      <th>1</th>\n",
       "      <th>2</th>\n",
       "      <th>3</th>\n",
       "      <th>4</th>\n",
       "      <th>5</th>\n",
       "      <th>6</th>\n",
       "      <th>7</th>\n",
       "      <th>8</th>\n",
       "      <th>9</th>\n",
       "      <th>...</th>\n",
       "      <th>775</th>\n",
       "      <th>776</th>\n",
       "      <th>777</th>\n",
       "      <th>778</th>\n",
       "      <th>779</th>\n",
       "      <th>780</th>\n",
       "      <th>781</th>\n",
       "      <th>782</th>\n",
       "      <th>783</th>\n",
       "      <th>784</th>\n",
       "    </tr>\n",
       "  </thead>\n",
       "  <tbody>\n",
       "    <tr>\n",
       "      <th>3</th>\n",
       "      <td>1</td>\n",
       "      <td>0</td>\n",
       "      <td>0</td>\n",
       "      <td>0</td>\n",
       "      <td>0</td>\n",
       "      <td>0</td>\n",
       "      <td>0</td>\n",
       "      <td>0</td>\n",
       "      <td>0</td>\n",
       "      <td>0</td>\n",
       "      <td>...</td>\n",
       "      <td>0</td>\n",
       "      <td>0</td>\n",
       "      <td>0</td>\n",
       "      <td>0</td>\n",
       "      <td>0</td>\n",
       "      <td>0</td>\n",
       "      <td>0</td>\n",
       "      <td>0</td>\n",
       "      <td>0</td>\n",
       "      <td>0</td>\n",
       "    </tr>\n",
       "    <tr>\n",
       "      <th>6</th>\n",
       "      <td>1</td>\n",
       "      <td>0</td>\n",
       "      <td>0</td>\n",
       "      <td>0</td>\n",
       "      <td>0</td>\n",
       "      <td>0</td>\n",
       "      <td>0</td>\n",
       "      <td>0</td>\n",
       "      <td>0</td>\n",
       "      <td>0</td>\n",
       "      <td>...</td>\n",
       "      <td>0</td>\n",
       "      <td>0</td>\n",
       "      <td>0</td>\n",
       "      <td>0</td>\n",
       "      <td>0</td>\n",
       "      <td>0</td>\n",
       "      <td>0</td>\n",
       "      <td>0</td>\n",
       "      <td>0</td>\n",
       "      <td>0</td>\n",
       "    </tr>\n",
       "    <tr>\n",
       "      <th>8</th>\n",
       "      <td>1</td>\n",
       "      <td>0</td>\n",
       "      <td>0</td>\n",
       "      <td>0</td>\n",
       "      <td>0</td>\n",
       "      <td>0</td>\n",
       "      <td>0</td>\n",
       "      <td>0</td>\n",
       "      <td>0</td>\n",
       "      <td>0</td>\n",
       "      <td>...</td>\n",
       "      <td>0</td>\n",
       "      <td>0</td>\n",
       "      <td>0</td>\n",
       "      <td>0</td>\n",
       "      <td>0</td>\n",
       "      <td>0</td>\n",
       "      <td>0</td>\n",
       "      <td>0</td>\n",
       "      <td>0</td>\n",
       "      <td>0</td>\n",
       "    </tr>\n",
       "    <tr>\n",
       "      <th>14</th>\n",
       "      <td>1</td>\n",
       "      <td>0</td>\n",
       "      <td>0</td>\n",
       "      <td>0</td>\n",
       "      <td>0</td>\n",
       "      <td>0</td>\n",
       "      <td>0</td>\n",
       "      <td>0</td>\n",
       "      <td>0</td>\n",
       "      <td>0</td>\n",
       "      <td>...</td>\n",
       "      <td>0</td>\n",
       "      <td>0</td>\n",
       "      <td>0</td>\n",
       "      <td>0</td>\n",
       "      <td>0</td>\n",
       "      <td>0</td>\n",
       "      <td>0</td>\n",
       "      <td>0</td>\n",
       "      <td>0</td>\n",
       "      <td>0</td>\n",
       "    </tr>\n",
       "    <tr>\n",
       "      <th>23</th>\n",
       "      <td>1</td>\n",
       "      <td>0</td>\n",
       "      <td>0</td>\n",
       "      <td>0</td>\n",
       "      <td>0</td>\n",
       "      <td>0</td>\n",
       "      <td>0</td>\n",
       "      <td>0</td>\n",
       "      <td>0</td>\n",
       "      <td>0</td>\n",
       "      <td>...</td>\n",
       "      <td>0</td>\n",
       "      <td>0</td>\n",
       "      <td>0</td>\n",
       "      <td>0</td>\n",
       "      <td>0</td>\n",
       "      <td>0</td>\n",
       "      <td>0</td>\n",
       "      <td>0</td>\n",
       "      <td>0</td>\n",
       "      <td>0</td>\n",
       "    </tr>\n",
       "    <tr>\n",
       "      <th>...</th>\n",
       "      <td>...</td>\n",
       "      <td>...</td>\n",
       "      <td>...</td>\n",
       "      <td>...</td>\n",
       "      <td>...</td>\n",
       "      <td>...</td>\n",
       "      <td>...</td>\n",
       "      <td>...</td>\n",
       "      <td>...</td>\n",
       "      <td>...</td>\n",
       "      <td>...</td>\n",
       "      <td>...</td>\n",
       "      <td>...</td>\n",
       "      <td>...</td>\n",
       "      <td>...</td>\n",
       "      <td>...</td>\n",
       "      <td>...</td>\n",
       "      <td>...</td>\n",
       "      <td>...</td>\n",
       "      <td>...</td>\n",
       "      <td>...</td>\n",
       "    </tr>\n",
       "    <tr>\n",
       "      <th>59958</th>\n",
       "      <td>1</td>\n",
       "      <td>0</td>\n",
       "      <td>0</td>\n",
       "      <td>0</td>\n",
       "      <td>0</td>\n",
       "      <td>0</td>\n",
       "      <td>0</td>\n",
       "      <td>0</td>\n",
       "      <td>0</td>\n",
       "      <td>0</td>\n",
       "      <td>...</td>\n",
       "      <td>0</td>\n",
       "      <td>0</td>\n",
       "      <td>0</td>\n",
       "      <td>0</td>\n",
       "      <td>0</td>\n",
       "      <td>0</td>\n",
       "      <td>0</td>\n",
       "      <td>0</td>\n",
       "      <td>0</td>\n",
       "      <td>0</td>\n",
       "    </tr>\n",
       "    <tr>\n",
       "      <th>59965</th>\n",
       "      <td>1</td>\n",
       "      <td>0</td>\n",
       "      <td>0</td>\n",
       "      <td>0</td>\n",
       "      <td>0</td>\n",
       "      <td>0</td>\n",
       "      <td>0</td>\n",
       "      <td>0</td>\n",
       "      <td>0</td>\n",
       "      <td>0</td>\n",
       "      <td>...</td>\n",
       "      <td>0</td>\n",
       "      <td>0</td>\n",
       "      <td>0</td>\n",
       "      <td>0</td>\n",
       "      <td>0</td>\n",
       "      <td>0</td>\n",
       "      <td>0</td>\n",
       "      <td>0</td>\n",
       "      <td>0</td>\n",
       "      <td>0</td>\n",
       "    </tr>\n",
       "    <tr>\n",
       "      <th>59979</th>\n",
       "      <td>1</td>\n",
       "      <td>0</td>\n",
       "      <td>0</td>\n",
       "      <td>0</td>\n",
       "      <td>0</td>\n",
       "      <td>0</td>\n",
       "      <td>0</td>\n",
       "      <td>0</td>\n",
       "      <td>0</td>\n",
       "      <td>0</td>\n",
       "      <td>...</td>\n",
       "      <td>0</td>\n",
       "      <td>0</td>\n",
       "      <td>0</td>\n",
       "      <td>0</td>\n",
       "      <td>0</td>\n",
       "      <td>0</td>\n",
       "      <td>0</td>\n",
       "      <td>0</td>\n",
       "      <td>0</td>\n",
       "      <td>0</td>\n",
       "    </tr>\n",
       "    <tr>\n",
       "      <th>59984</th>\n",
       "      <td>1</td>\n",
       "      <td>0</td>\n",
       "      <td>0</td>\n",
       "      <td>0</td>\n",
       "      <td>0</td>\n",
       "      <td>0</td>\n",
       "      <td>0</td>\n",
       "      <td>0</td>\n",
       "      <td>0</td>\n",
       "      <td>0</td>\n",
       "      <td>...</td>\n",
       "      <td>0</td>\n",
       "      <td>0</td>\n",
       "      <td>0</td>\n",
       "      <td>0</td>\n",
       "      <td>0</td>\n",
       "      <td>0</td>\n",
       "      <td>0</td>\n",
       "      <td>0</td>\n",
       "      <td>0</td>\n",
       "      <td>0</td>\n",
       "    </tr>\n",
       "    <tr>\n",
       "      <th>59994</th>\n",
       "      <td>1</td>\n",
       "      <td>0</td>\n",
       "      <td>0</td>\n",
       "      <td>0</td>\n",
       "      <td>0</td>\n",
       "      <td>0</td>\n",
       "      <td>0</td>\n",
       "      <td>0</td>\n",
       "      <td>0</td>\n",
       "      <td>0</td>\n",
       "      <td>...</td>\n",
       "      <td>0</td>\n",
       "      <td>0</td>\n",
       "      <td>0</td>\n",
       "      <td>0</td>\n",
       "      <td>0</td>\n",
       "      <td>0</td>\n",
       "      <td>0</td>\n",
       "      <td>0</td>\n",
       "      <td>0</td>\n",
       "      <td>0</td>\n",
       "    </tr>\n",
       "  </tbody>\n",
       "</table>\n",
       "<p>6742 rows × 785 columns</p>\n",
       "</div>"
      ],
      "text/plain": [
       "       0    1    2    3    4    5    6    7    8    9    ...  775  776  777  \\\n",
       "3        1    0    0    0    0    0    0    0    0    0  ...    0    0    0   \n",
       "6        1    0    0    0    0    0    0    0    0    0  ...    0    0    0   \n",
       "8        1    0    0    0    0    0    0    0    0    0  ...    0    0    0   \n",
       "14       1    0    0    0    0    0    0    0    0    0  ...    0    0    0   \n",
       "23       1    0    0    0    0    0    0    0    0    0  ...    0    0    0   \n",
       "...    ...  ...  ...  ...  ...  ...  ...  ...  ...  ...  ...  ...  ...  ...   \n",
       "59958    1    0    0    0    0    0    0    0    0    0  ...    0    0    0   \n",
       "59965    1    0    0    0    0    0    0    0    0    0  ...    0    0    0   \n",
       "59979    1    0    0    0    0    0    0    0    0    0  ...    0    0    0   \n",
       "59984    1    0    0    0    0    0    0    0    0    0  ...    0    0    0   \n",
       "59994    1    0    0    0    0    0    0    0    0    0  ...    0    0    0   \n",
       "\n",
       "       778  779  780  781  782  783  784  \n",
       "3        0    0    0    0    0    0    0  \n",
       "6        0    0    0    0    0    0    0  \n",
       "8        0    0    0    0    0    0    0  \n",
       "14       0    0    0    0    0    0    0  \n",
       "23       0    0    0    0    0    0    0  \n",
       "...    ...  ...  ...  ...  ...  ...  ...  \n",
       "59958    0    0    0    0    0    0    0  \n",
       "59965    0    0    0    0    0    0    0  \n",
       "59979    0    0    0    0    0    0    0  \n",
       "59984    0    0    0    0    0    0    0  \n",
       "59994    0    0    0    0    0    0    0  \n",
       "\n",
       "[6742 rows x 785 columns]"
      ]
     },
     "execution_count": 12,
     "metadata": {},
     "output_type": "execute_result"
    }
   ],
   "source": [
    "train[train[0] == 1]"
   ]
  },
  {
   "cell_type": "code",
   "execution_count": 13,
   "metadata": {},
   "outputs": [],
   "source": [
    "#initializing a list for train dataset sorted by labels\n",
    "digit = []\n",
    "\n",
    "#itterates through unique labels\n",
    "for i in uniq_label:\n",
    "    df_train = (train.iloc[index[i]])\n",
    "    #digit.append(df_train.values)\n",
    "    pixel_t = df_train.values #Converts to array\n",
    "    pixel_train_binary = pixel_t > 255/2\n",
    "    pixel_train_binary = pixel_train_binary.astype(int)\n",
    "    digit.append(pixel_train_binary) #appending array to the list digit\n"
   ]
  },
  {
   "cell_type": "code",
   "execution_count": 14,
   "metadata": {},
   "outputs": [],
   "source": [
    "#defining function for likelihood\n",
    "def likeli(data,like0,like1,k):\n",
    "    for i in range(0,10):  #itterates through unique labels\n",
    "        prob0_list = []\n",
    "        prob1_list = []\n",
    "        prob0_list.append(i)\n",
    "        prob1_list.append(i)\n",
    "        dig = digit[i]\n",
    "        count_total = len(digit[i])\n",
    "        for j in range(1,785):   #itterates through columns of train\n",
    "            uniq, count = np.unique(dig[:,j], return_counts=True)\n",
    "            #print(uniq,count)\n",
    "            if (len(uniq) == 2):\n",
    "                count0 = count[0]\n",
    "                count1 = count[1]\n",
    "            elif(uniq == 1):\n",
    "                count0 = 0\n",
    "                count1 = count[0]\n",
    "            else:\n",
    "                count0 = count[0]\n",
    "                count1 = 0\n",
    "            #Calculating likelihood\n",
    "            prob0 = (count0+k)/(count_total+(k*2)) \n",
    "            prob1 = (count1+k)/(count_total+(k*2))\n",
    "            #appending to the list \n",
    "            prob0_list.append(prob0) \n",
    "            prob1_list.append(prob1)\n",
    "        prob0_list.append(k)\n",
    "        prob1_list.append(k)\n",
    "        #appending list to the DataFrame\n",
    "        like0.loc[len(like0.index)] = prob0_list\n",
    "        like1.loc[len(like1.index)] = prob1_list\n",
    "    #break\n"
   ]
  },
  {
   "cell_type": "code",
   "execution_count": 15,
   "metadata": {},
   "outputs": [],
   "source": [
    "#intializing Dataframes with columns\n",
    "likelihood_prob_0 = pd.DataFrame(columns=range(0,785))\n",
    "likelihood_prob_1 = pd.DataFrame(columns=range(0,785))\n",
    "likelihood_prob_0['K'] = 0\n",
    "likelihood_prob_1['K'] = 0\n",
    "#itterates through k 1~5\n",
    "for k in range(1,6):\n",
    "    likeli(digit,likelihood_prob_0,likelihood_prob_1,k) #function calls"
   ]
  },
  {
   "cell_type": "code",
   "execution_count": 16,
   "metadata": {},
   "outputs": [
    {
     "name": "stdout",
     "output_type": "stream",
     "text": [
      "K1\n",
      "P(F682 = 0|class = 5): 0.8505\n",
      "P(F772 = 1|class = 9): 0.001\n"
     ]
    }
   ],
   "source": [
    "print(\"K1\")\n",
    "print(\"P(F682 = 0|class = 5):\",round(likelihood_prob_0.iat[5,682],4))\n",
    "print(\"P(F772 = 1|class = 9):\",round(likelihood_prob_1.iat[9,772],4))"
   ]
  },
  {
   "cell_type": "code",
   "execution_count": 17,
   "metadata": {},
   "outputs": [
    {
     "name": "stdout",
     "output_type": "stream",
     "text": [
      "K2\n",
      "P(F682 = 0|class = 5): 0.8499\n",
      "P(F772 = 1|class = 9): 0.002\n"
     ]
    }
   ],
   "source": [
    "print(\"K2\")\n",
    "print(\"P(F682 = 0|class = 5):\",round(likelihood_prob_0.iat[45,682],4))\n",
    "print(\"P(F772 = 1|class = 9):\",round(likelihood_prob_1.iat[49,772],3))"
   ]
  },
  {
   "cell_type": "markdown",
   "metadata": {},
   "source": [
    "## 3) Maximum a Posteriori(MAP):"
   ]
  },
  {
   "cell_type": "code",
   "execution_count": 18,
   "metadata": {},
   "outputs": [],
   "source": [
    "#Converting dataframe to arrays\n",
    "pixel_te = test.values\n",
    "pixel_test_binary = pixel_te > 225/2\n",
    "pixel_test_binary = pixel_test_binary.astype(int)"
   ]
  },
  {
   "cell_type": "code",
   "execution_count": 19,
   "metadata": {},
   "outputs": [],
   "source": [
    "#initializing lists and DataFrames\n",
    "k_inde = [0,0,10,20,30,40]\n",
    "posterior_prob_k1 = pd.DataFrame(columns=range(0,10))\n",
    "posterior_label_k1 = {}\n",
    "posterior_prob_k2 = pd.DataFrame(columns=range(0,10))\n",
    "posterior_label_k2 = {}\n",
    "posterior_prob_k3 = pd.DataFrame(columns=range(0,10))\n",
    "posterior_label_k3 = {}\n",
    "posterior_prob_k4 = pd.DataFrame(columns=range(0,10))\n",
    "posterior_label_k4 = {}\n",
    "posterior_prob_k5 = pd.DataFrame(columns=range(0,10))\n",
    "posterior_label_k5 = {}\n",
    "block_post_prob = [0,posterior_prob_k1, posterior_prob_k2, posterior_prob_k3, posterior_prob_k4, posterior_prob_k5]\n",
    "block_post_label = [0,posterior_label_k1, posterior_label_k2, posterior_label_k3, posterior_label_k4, posterior_label_k5]\n",
    "#converting dataframe to arrays\n",
    "likelihood_prob_0_array = likelihood_prob_0.values\n",
    "likelihood_prob_1_array = likelihood_prob_1.values"
   ]
  },
  {
   "cell_type": "code",
   "execution_count": 20,
   "metadata": {},
   "outputs": [],
   "source": [
    "#Calculating posterior probability\n",
    "for k in range(1,6):  #itterates through k 1~5\n",
    "    for i in range(len(pixel_test_binary[:,0])): #itterates through rows of test\n",
    "        posterior_digit = []\n",
    "        e = k_inde[k]\n",
    "        for d in range(0,10):  #itterates through unique labels\n",
    "            posterior = 0\n",
    "            posterior += np.log(prior_prob[d])\n",
    "            for l in range(1,785): # itterates through columns of test\n",
    "                j = (pixel_test_binary[i,l]) #extracting value of a cell\n",
    "                if (j == 0):\n",
    "                    posterior += np.log(likelihood_prob_0_array[e,l])\n",
    "                else:\n",
    "                    posterior += np.log(likelihood_prob_1_array[e,l])\n",
    "            posterior_digit.append(posterior) #appending posterior of each digit\n",
    "            e +=1\n",
    "        name = block_post_prob[k]\n",
    "        name.loc[len(name.index)] = posterior_digit\n",
    "        block_post_label[k].update({(max(posterior_digit)): (posterior_digit.index(max(posterior_digit)))})        \n",
    "        "
   ]
  },
  {
   "cell_type": "code",
   "execution_count": 21,
   "metadata": {},
   "outputs": [
    {
     "name": "stdout",
     "output_type": "stream",
     "text": [
      "K=1\n",
      "P(class = 5|f1, f2, ..., f784): -218.99850854275212\n",
      "P(class = 7|f1, f2, ..., f784): -116.53423795667491\n"
     ]
    }
   ],
   "source": [
    "print(\"K=1\")\n",
    "print(\"P(class = 5|f1, f2, ..., f784):\",posterior_prob_k1.iat[0,5])\n",
    "print(\"P(class = 7|f1, f2, ..., f784):\",posterior_prob_k1.iat[0,7])"
   ]
  },
  {
   "cell_type": "code",
   "execution_count": 22,
   "metadata": {},
   "outputs": [
    {
     "name": "stdout",
     "output_type": "stream",
     "text": [
      "K=5\n",
      "P(class = 5|f1, f2, ..., f784): -218.4816467572783\n",
      "P(class = 7|f1, f2, ..., f784): -116.92303932191803\n"
     ]
    }
   ],
   "source": [
    "print(\"K=5\")\n",
    "print(\"P(class = 5|f1, f2, ..., f784):\",posterior_prob_k5.iat[0,5])\n",
    "print(\"P(class = 7|f1, f2, ..., f784):\",posterior_prob_k5.iat[0,7])"
   ]
  },
  {
   "cell_type": "markdown",
   "metadata": {},
   "source": [
    "## 4) Classification Rate of performance:"
   ]
  },
  {
   "cell_type": "code",
   "execution_count": 31,
   "metadata": {},
   "outputs": [
    {
     "name": "stdout",
     "output_type": "stream",
     "text": [
      "Accuracy for K=1: 0.8474\n"
     ]
    }
   ],
   "source": [
    "label_predicted1 = list(posterior_label_k1.values())\n",
    "results = metrics.accuracy_score(label_test,label_predicted1)\n",
    "print(\"Accuracy for K=1:\",results)"
   ]
  },
  {
   "cell_type": "code",
   "execution_count": 24,
   "metadata": {},
   "outputs": [
    {
     "name": "stdout",
     "output_type": "stream",
     "text": [
      "Accuracy for K=2: 0.8469\n"
     ]
    }
   ],
   "source": [
    "label_predicted2 = list(posterior_label_k2.values())\n",
    "results2 = metrics.accuracy_score(label_test,label_predicted2)\n",
    "print(\"Accuracy for K=2:\",results2)"
   ]
  },
  {
   "cell_type": "code",
   "execution_count": 25,
   "metadata": {},
   "outputs": [
    {
     "name": "stdout",
     "output_type": "stream",
     "text": [
      "Accuracy for K=3: 0.8469\n"
     ]
    }
   ],
   "source": [
    "label_predicted3 = list(posterior_label_k3.values())\n",
    "results3 = metrics.accuracy_score(label_test,label_predicted3)\n",
    "print(\"Accuracy for K=3:\",results3)"
   ]
  },
  {
   "cell_type": "code",
   "execution_count": 26,
   "metadata": {},
   "outputs": [
    {
     "name": "stdout",
     "output_type": "stream",
     "text": [
      "Accuracy for K=4: 0.847\n"
     ]
    }
   ],
   "source": [
    "label_predicted4 = list(posterior_label_k4.values())\n",
    "results4 = metrics.accuracy_score(label_test,label_predicted4)\n",
    "print(\"Accuracy for K=4:\",results4)"
   ]
  },
  {
   "cell_type": "code",
   "execution_count": 27,
   "metadata": {},
   "outputs": [
    {
     "name": "stdout",
     "output_type": "stream",
     "text": [
      "Accuracy for K=5: 0.8467\n"
     ]
    }
   ],
   "source": [
    "label_predicted5 = list(posterior_label_k5.values())\n",
    "results5 = metrics.accuracy_score(label_test,label_predicted5)\n",
    "print(\"Accuracy for K=5:\",results5)"
   ]
  },
  {
   "cell_type": "markdown",
   "metadata": {},
   "source": [
    "## 5) Confusion Matrix:"
   ]
  },
  {
   "cell_type": "code",
   "execution_count": 28,
   "metadata": {},
   "outputs": [
    {
     "data": {
      "image/png": "[encoded data removed]",
      "text/plain": [
       "<Figure size 864x576 with 2 Axes>"
      ]
     },
     "metadata": {
      "needs_background": "light"
     },
     "output_type": "display_data"
    }
   ],
   "source": [
    "#Generate the confusion matrix\n",
    "cf_matrix = confusion_matrix(label_test, label_predicted1)\n",
    "\n",
    "plt.subplots(figsize=(12, 8))\n",
    "ax = sns.heatmap(cf_matrix/np.sum(cf_matrix), annot=True, \n",
    "            fmt='.2%', cmap='coolwarm')\n",
    "\n",
    "ax.set_title('Confusion Matrix for K=1\\n\\n')\n",
    "ax.set_xlabel('\\nPredicted Label')\n",
    "ax.set_ylabel('True Label ')\n",
    "\n",
    "## Ticket labels - List must be in alphabetical order\n",
    "#ax.xaxis.set_ticklabels(['False','True'])\n",
    "#ax.yaxis.set_ticklabels(['False','True'])\n",
    "\n",
    "## Display the visualization of the Confusion Matrix.\n",
    "plt.show()"
   ]
  },
  {
   "cell_type": "code",
   "execution_count": 29,
   "metadata": {},
   "outputs": [
    {
     "name": "stdout",
     "output_type": "stream",
     "text": [
      "The best Accuracy is for K=1: 84.74 %\n"
     ]
    }
   ],
   "source": [
    "print(\"The best Accuracy is for K=1:\", round(results*100,3),\"%\")"
   ]
  }
 ],
 "metadata": {
  "interpreter": {
   "hash": "93aa6eaba12a51582addf7e374ce2ee749af688b6729a74b946186c1a54ff2fe"
  },
  "kernelspec": {
   "display_name": "Python 3",
   "language": "python",
   "name": "python3"
  },
  "language_info": {
   "codemirror_mode": {
    "name": "ipython",
    "version": 3
   },
   "file_extension": ".py",
   "mimetype": "text/x-python",
   "name": "python",
   "nbconvert_exporter": "python",
   "pygments_lexer": "ipython3",
   "version": "3.9.1"
  }
 },
 "nbformat": 4,
 "nbformat_minor": 2
}
